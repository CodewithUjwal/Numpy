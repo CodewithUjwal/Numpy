{
 "cells": [
  {
   "cell_type": "code",
   "execution_count": null,
   "id": "cc771de8-1d13-4ffd-843d-be13e4f961a7",
   "metadata": {},
   "outputs": [],
   "source": [
    "#Q1\n",
    "'''\n",
    "Yes, there is a difference in the data types of the variables list_ and array_list. \n",
    "The variable list_ is a Python list, while array_list is a NumPy array.\n",
    "'''\n",
    "import numpy as np\n",
    "\n",
    "list_ = ['1', '2', '3', '4', '5']\n",
    "array_list = np.array(list_)\n",
    "\n",
    "print(\"Data type of list_:\", type(list_))\n",
    "print(\"Data type of array_list:\", type(array_list))\n",
    "print(\"Data type of elements in array_list:\", array_list.dtype)\n"
   ]
  },
  {
   "cell_type": "code",
   "execution_count": null,
   "id": "a9096786-f216-4d01-8b67-3c633c40c796",
   "metadata": {},
   "outputs": [],
   "source": [
    "#Q2\n",
    "import numpy as np\n",
    "\n",
    "list_ = ['1', '2', '3', '4', '5']\n",
    "array_list = np.array(list_)\n",
    "\n",
    "# Print the data type of each element in list_\n",
    "print(\"Data types of elements in list_:\")\n",
    "for element in list_:\n",
    "    print(type(element))\n",
    "\n",
    "# Print the data type of each element in array_list\n",
    "print(\"\\nData types of elements in array_list:\")\n",
    "for element in array_list:\n",
    "    print(type(element))\n"
   ]
  },
  {
   "cell_type": "code",
   "execution_count": null,
   "id": "d1334588-9e9c-4f52-91c0-9a20457addfe",
   "metadata": {},
   "outputs": [],
   "source": [
    "#Q3\n",
    "'''\n",
    "Yes, there will be a difference in the data type of the elements present in both the variables list_ and array_list after changing the dtype of array_list to int.\n",
    "'''"
   ]
  },
  {
   "cell_type": "code",
   "execution_count": null,
   "id": "a03b4a6e-5d67-451a-9fd4-8f6aaadc5a80",
   "metadata": {},
   "outputs": [],
   "source": []
  },
  {
   "cell_type": "code",
   "execution_count": null,
   "id": "aebce7f4-bcaa-49a4-bd6a-5bf1afdbf505",
   "metadata": {},
   "outputs": [],
   "source": []
  }
 ],
 "metadata": {
  "kernelspec": {
   "display_name": "Python 3 (ipykernel)",
   "language": "python",
   "name": "python3"
  },
  "language_info": {
   "codemirror_mode": {
    "name": "ipython",
    "version": 3
   },
   "file_extension": ".py",
   "mimetype": "text/x-python",
   "name": "python",
   "nbconvert_exporter": "python",
   "pygments_lexer": "ipython3",
   "version": "3.10.8"
  }
 },
 "nbformat": 4,
 "nbformat_minor": 5
}
